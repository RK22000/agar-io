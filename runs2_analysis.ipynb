{
 "cells": [
  {
   "cell_type": "code",
   "execution_count": 11,
   "metadata": {},
   "outputs": [],
   "source": [
    "import pandas as pd\n",
    "df = pd.read_csv(\"rounds.csv\")"
   ]
  },
  {
   "cell_type": "code",
   "execution_count": 2,
   "metadata": {},
   "outputs": [
    {
     "data": {
      "text/html": [
       "<div>\n",
       "<style scoped>\n",
       "    .dataframe tbody tr th:only-of-type {\n",
       "        vertical-align: middle;\n",
       "    }\n",
       "\n",
       "    .dataframe tbody tr th {\n",
       "        vertical-align: top;\n",
       "    }\n",
       "\n",
       "    .dataframe thead th {\n",
       "        text-align: right;\n",
       "    }\n",
       "</style>\n",
       "<table border=\"1\" class=\"dataframe\">\n",
       "  <thead>\n",
       "    <tr style=\"text-align: right;\">\n",
       "      <th></th>\n",
       "      <th>Model</th>\n",
       "      <th>Survival_Time</th>\n",
       "      <th>Reaction_Time</th>\n",
       "      <th>Run_Dir</th>\n",
       "      <th>Error</th>\n",
       "    </tr>\n",
       "  </thead>\n",
       "  <tbody>\n",
       "    <tr>\n",
       "      <th>275</th>\n",
       "      <td>go0-avoid100</td>\n",
       "      <td>29.193420</td>\n",
       "      <td>0.171822</td>\n",
       "      <td>runs2\\00275</td>\n",
       "      <td>False</td>\n",
       "    </tr>\n",
       "    <tr>\n",
       "      <th>149</th>\n",
       "      <td>go100-avoid0</td>\n",
       "      <td>11.268610</td>\n",
       "      <td>0.150571</td>\n",
       "      <td>runs2\\00149</td>\n",
       "      <td>False</td>\n",
       "    </tr>\n",
       "    <tr>\n",
       "      <th>242</th>\n",
       "      <td>go50-avoid50</td>\n",
       "      <td>89.190565</td>\n",
       "      <td>0.163921</td>\n",
       "      <td>runs2\\00242</td>\n",
       "      <td>False</td>\n",
       "    </tr>\n",
       "    <tr>\n",
       "      <th>400</th>\n",
       "      <td>go0-avoid100</td>\n",
       "      <td>25.161608</td>\n",
       "      <td>0.157685</td>\n",
       "      <td>runs2\\00400</td>\n",
       "      <td>False</td>\n",
       "    </tr>\n",
       "    <tr>\n",
       "      <th>539</th>\n",
       "      <td>go100-avoid0</td>\n",
       "      <td>11.166383</td>\n",
       "      <td>0.144159</td>\n",
       "      <td>runs2\\00539</td>\n",
       "      <td>False</td>\n",
       "    </tr>\n",
       "  </tbody>\n",
       "</table>\n",
       "</div>"
      ],
      "text/plain": [
       "            Model  Survival_Time  Reaction_Time      Run_Dir  Error\n",
       "275  go0-avoid100      29.193420       0.171822  runs2\\00275  False\n",
       "149  go100-avoid0      11.268610       0.150571  runs2\\00149  False\n",
       "242  go50-avoid50      89.190565       0.163921  runs2\\00242  False\n",
       "400  go0-avoid100      25.161608       0.157685  runs2\\00400  False\n",
       "539  go100-avoid0      11.166383       0.144159  runs2\\00539  False"
      ]
     },
     "execution_count": 2,
     "metadata": {},
     "output_type": "execute_result"
    }
   ],
   "source": [
    "df.sample(5)"
   ]
  },
  {
   "cell_type": "code",
   "execution_count": 20,
   "metadata": {},
   "outputs": [
    {
     "data": {
      "text/plain": [
       "array(['go0-avoid100', 'go25-avoid75', 'go50-avoid50', 'go75-avoid25',\n",
       "       'go100-avoid0', 'bull_model'], dtype=object)"
      ]
     },
     "execution_count": 20,
     "metadata": {},
     "output_type": "execute_result"
    }
   ],
   "source": [
    "df.Model.unique()"
   ]
  },
  {
   "cell_type": "code",
   "execution_count": 21,
   "metadata": {},
   "outputs": [
    {
     "data": {
      "text/html": [
       "<div>\n",
       "<style scoped>\n",
       "    .dataframe tbody tr th:only-of-type {\n",
       "        vertical-align: middle;\n",
       "    }\n",
       "\n",
       "    .dataframe tbody tr th {\n",
       "        vertical-align: top;\n",
       "    }\n",
       "\n",
       "    .dataframe thead th {\n",
       "        text-align: right;\n",
       "    }\n",
       "</style>\n",
       "<table border=\"1\" class=\"dataframe\">\n",
       "  <thead>\n",
       "    <tr style=\"text-align: right;\">\n",
       "      <th></th>\n",
       "      <th>Model</th>\n",
       "      <th>Survival_Time</th>\n",
       "      <th>Reaction_Time</th>\n",
       "      <th>Run_Dir</th>\n",
       "      <th>Error</th>\n",
       "    </tr>\n",
       "  </thead>\n",
       "  <tbody>\n",
       "    <tr>\n",
       "      <th>600</th>\n",
       "      <td>bull_model</td>\n",
       "      <td>615.800288</td>\n",
       "      <td>0.000000</td>\n",
       "      <td>runs3\\00043</td>\n",
       "      <td>False</td>\n",
       "    </tr>\n",
       "    <tr>\n",
       "      <th>85</th>\n",
       "      <td>go0-avoid100</td>\n",
       "      <td>287.253262</td>\n",
       "      <td>0.163111</td>\n",
       "      <td>runs2\\00085</td>\n",
       "      <td>False</td>\n",
       "    </tr>\n",
       "    <tr>\n",
       "      <th>111</th>\n",
       "      <td>go25-avoid75</td>\n",
       "      <td>220.432401</td>\n",
       "      <td>0.164657</td>\n",
       "      <td>runs2\\00111</td>\n",
       "      <td>False</td>\n",
       "    </tr>\n",
       "    <tr>\n",
       "      <th>245</th>\n",
       "      <td>go0-avoid100</td>\n",
       "      <td>215.466393</td>\n",
       "      <td>0.169146</td>\n",
       "      <td>runs2\\00245</td>\n",
       "      <td>False</td>\n",
       "    </tr>\n",
       "    <tr>\n",
       "      <th>341</th>\n",
       "      <td>go25-avoid75</td>\n",
       "      <td>204.758673</td>\n",
       "      <td>0.164379</td>\n",
       "      <td>runs2\\00341</td>\n",
       "      <td>False</td>\n",
       "    </tr>\n",
       "    <tr>\n",
       "      <th>...</th>\n",
       "      <td>...</td>\n",
       "      <td>...</td>\n",
       "      <td>...</td>\n",
       "      <td>...</td>\n",
       "      <td>...</td>\n",
       "    </tr>\n",
       "    <tr>\n",
       "      <th>65</th>\n",
       "      <td>go0-avoid100</td>\n",
       "      <td>5.524342</td>\n",
       "      <td>0.148275</td>\n",
       "      <td>runs2\\00065</td>\n",
       "      <td>False</td>\n",
       "    </tr>\n",
       "    <tr>\n",
       "      <th>31</th>\n",
       "      <td>go25-avoid75</td>\n",
       "      <td>5.503453</td>\n",
       "      <td>0.141661</td>\n",
       "      <td>runs2\\00031</td>\n",
       "      <td>False</td>\n",
       "    </tr>\n",
       "    <tr>\n",
       "      <th>161</th>\n",
       "      <td>go25-avoid75</td>\n",
       "      <td>5.502780</td>\n",
       "      <td>0.139401</td>\n",
       "      <td>runs2\\00161</td>\n",
       "      <td>False</td>\n",
       "    </tr>\n",
       "    <tr>\n",
       "      <th>24</th>\n",
       "      <td>go100-avoid0</td>\n",
       "      <td>5.497800</td>\n",
       "      <td>0.139641</td>\n",
       "      <td>runs2\\00024</td>\n",
       "      <td>False</td>\n",
       "    </tr>\n",
       "    <tr>\n",
       "      <th>298</th>\n",
       "      <td>go75-avoid25</td>\n",
       "      <td>1.708511</td>\n",
       "      <td>0.000000</td>\n",
       "      <td>runs2\\00298</td>\n",
       "      <td>True</td>\n",
       "    </tr>\n",
       "  </tbody>\n",
       "</table>\n",
       "<p>603 rows × 5 columns</p>\n",
       "</div>"
      ],
      "text/plain": [
       "            Model  Survival_Time  Reaction_Time      Run_Dir  Error\n",
       "600    bull_model     615.800288       0.000000  runs3\\00043  False\n",
       "85   go0-avoid100     287.253262       0.163111  runs2\\00085  False\n",
       "111  go25-avoid75     220.432401       0.164657  runs2\\00111  False\n",
       "245  go0-avoid100     215.466393       0.169146  runs2\\00245  False\n",
       "341  go25-avoid75     204.758673       0.164379  runs2\\00341  False\n",
       "..            ...            ...            ...          ...    ...\n",
       "65   go0-avoid100       5.524342       0.148275  runs2\\00065  False\n",
       "31   go25-avoid75       5.503453       0.141661  runs2\\00031  False\n",
       "161  go25-avoid75       5.502780       0.139401  runs2\\00161  False\n",
       "24   go100-avoid0       5.497800       0.139641  runs2\\00024  False\n",
       "298  go75-avoid25       1.708511       0.000000  runs2\\00298   True\n",
       "\n",
       "[603 rows x 5 columns]"
      ]
     },
     "execution_count": 21,
     "metadata": {},
     "output_type": "execute_result"
    }
   ],
   "source": [
    "df.sort_values('Survival_Time', ascending=False)"
   ]
  },
  {
   "cell_type": "code",
   "execution_count": 23,
   "metadata": {},
   "outputs": [
    {
     "name": "stderr",
     "output_type": "stream",
     "text": [
      "d:\\Projects\\Agar.io\\env\\Lib\\site-packages\\seaborn\\_oldcore.py:1498: FutureWarning: is_categorical_dtype is deprecated and will be removed in a future version. Use isinstance(dtype, CategoricalDtype) instead\n",
      "  if pd.api.types.is_categorical_dtype(vector):\n",
      "d:\\Projects\\Agar.io\\env\\Lib\\site-packages\\seaborn\\_oldcore.py:1498: FutureWarning: is_categorical_dtype is deprecated and will be removed in a future version. Use isinstance(dtype, CategoricalDtype) instead\n",
      "  if pd.api.types.is_categorical_dtype(vector):\n",
      "d:\\Projects\\Agar.io\\env\\Lib\\site-packages\\seaborn\\_oldcore.py:1498: FutureWarning: is_categorical_dtype is deprecated and will be removed in a future version. Use isinstance(dtype, CategoricalDtype) instead\n",
      "  if pd.api.types.is_categorical_dtype(vector):\n"
     ]
    },
    {
     "data": {
      "image/png": "[encoded data removed]",
      "text/plain": [
       "<Figure size 1200x800 with 1 Axes>"
      ]
     },
     "metadata": {},
     "output_type": "display_data"
    }
   ],
   "source": [
    "import seaborn as sns\n",
    "import matplotlib.pyplot as plt\n",
    "plt.figure(figsize=(12,8))\n",
    "d = df.sort_values('Survival_Time', ascending=False).iloc[1:]\n",
    "ax = sns.boxplot(d, x='Model', y='Survival_Time')\n",
    "sns.despine(offset=25, trim=True)"
   ]
  },
  {
   "cell_type": "code",
   "execution_count": 16,
   "metadata": {},
   "outputs": [
    {
     "name": "stderr",
     "output_type": "stream",
     "text": [
      "d:\\Projects\\Agar.io\\env\\Lib\\site-packages\\seaborn\\_oldcore.py:1498: FutureWarning: is_categorical_dtype is deprecated and will be removed in a future version. Use isinstance(dtype, CategoricalDtype) instead\n",
      "  if pd.api.types.is_categorical_dtype(vector):\n",
      "d:\\Projects\\Agar.io\\env\\Lib\\site-packages\\seaborn\\_oldcore.py:1498: FutureWarning: is_categorical_dtype is deprecated and will be removed in a future version. Use isinstance(dtype, CategoricalDtype) instead\n",
      "  if pd.api.types.is_categorical_dtype(vector):\n"
     ]
    },
    {
     "data": {
      "text/plain": [
       "<Axes: xlabel='Survival_Time', ylabel='Reaction_Time'>"
      ]
     },
     "execution_count": 16,
     "metadata": {},
     "output_type": "execute_result"
    },
    {
     "data": {
      "image/png": "[encoded data removed]",
      "text/plain": [
       "<Figure size 640x480 with 1 Axes>"
      ]
     },
     "metadata": {},
     "output_type": "display_data"
    }
   ],
   "source": [
    "sns.scatterplot(df, x='Survival_Time', y='Reaction_Time')"
   ]
  },
  {
   "cell_type": "code",
   "execution_count": 17,
   "metadata": {},
   "outputs": [
    {
     "data": {
      "text/html": [
       "<div>\n",
       "<style scoped>\n",
       "    .dataframe tbody tr th:only-of-type {\n",
       "        vertical-align: middle;\n",
       "    }\n",
       "\n",
       "    .dataframe tbody tr th {\n",
       "        vertical-align: top;\n",
       "    }\n",
       "\n",
       "    .dataframe thead th {\n",
       "        text-align: right;\n",
       "    }\n",
       "</style>\n",
       "<table border=\"1\" class=\"dataframe\">\n",
       "  <thead>\n",
       "    <tr style=\"text-align: right;\">\n",
       "      <th></th>\n",
       "      <th>Model</th>\n",
       "      <th>Survival_Time</th>\n",
       "      <th>Reaction_Time</th>\n",
       "      <th>Run_Dir</th>\n",
       "      <th>Error</th>\n",
       "    </tr>\n",
       "  </thead>\n",
       "  <tbody>\n",
       "    <tr>\n",
       "      <th>85</th>\n",
       "      <td>go0-avoid100</td>\n",
       "      <td>287.253262</td>\n",
       "      <td>0.163111</td>\n",
       "      <td>runs2\\00085</td>\n",
       "      <td>False</td>\n",
       "    </tr>\n",
       "  </tbody>\n",
       "</table>\n",
       "</div>"
      ],
      "text/plain": [
       "           Model  Survival_Time  Reaction_Time      Run_Dir  Error\n",
       "85  go0-avoid100     287.253262       0.163111  runs2\\00085  False"
      ]
     },
     "execution_count": 17,
     "metadata": {},
     "output_type": "execute_result"
    }
   ],
   "source": [
    "df.loc[df.Survival_Time == max(df.Survival_Time)]"
   ]
  }
 ],
 "metadata": {
  "kernelspec": {
   "display_name": "Python 3",
   "language": "python",
   "name": "python3"
  },
  "language_info": {
   "codemirror_mode": {
    "name": "ipython",
    "version": 3
   },
   "file_extension": ".py",
   "mimetype": "text/x-python",
   "name": "python",
   "nbconvert_exporter": "python",
   "pygments_lexer": "ipython3",
   "version": "3.11.5"
  }
 },
 "nbformat": 4,
 "nbformat_minor": 2
}
