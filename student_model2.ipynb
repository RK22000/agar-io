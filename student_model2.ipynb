{
 "cells": [
  {
   "cell_type": "code",
   "execution_count": 896,
   "metadata": {},
   "outputs": [],
   "source": [
    "import tensorflow as tf\n",
    "new_model = lambda: tf.keras.Sequential(layers=[\n",
    "    tf.keras.layers.Conv2D(32, (5,5), input_shape=(200,320,3), activation='relu'),\n",
    "    tf.keras.layers.MaxPool2D((5,5)),\n",
    "    tf.keras.layers.Conv2D(32, (5,5), activation='relu'),\n",
    "    tf.keras.layers.MaxPool2D((5,5)),\n",
    "    tf.keras.layers.Flatten(),\n",
    "    tf.keras.layers.Dense(1000, 'relu', use_bias=False),\n",
    "    tf.keras.layers.Dense(1000, 'relu', use_bias=False),\n",
    "    tf.keras.layers.Dense(100, 'relu', use_bias=False),\n",
    "    tf.keras.layers.Dense(6, 'softmax', use_bias=False),\n",
    "])"
   ]
  },
  {
   "cell_type": "code",
   "execution_count": 897,
   "metadata": {},
   "outputs": [],
   "source": [
    "model = new_model()"
   ]
  },
  {
   "cell_type": "code",
   "execution_count": 898,
   "metadata": {},
   "outputs": [
    {
     "data": {
      "text/plain": [
       "(6, 18145)"
      ]
     },
     "execution_count": 898,
     "metadata": {},
     "output_type": "execute_result"
    }
   ],
   "source": [
    "import pandas as pd\n",
    "import utils\n",
    "df = pd.read_csv(\"teacher_preds.csv\")\n",
    "# df = utils.pull_balanced_preds(df, 1203)\n",
    "df.shape"
   ]
  },
  {
   "cell_type": "code",
   "execution_count": 899,
   "metadata": {},
   "outputs": [],
   "source": [
    "files = pd.DataFrame([i.split(\"\\\\\") for i in df.columns.sort_values()])\n",
    "grouped = files.groupby(1)\n",
    "groups = [grouped.get_group(i).sort_values(3).iloc[-4:] for i in files[1].unique()]\n",
    "ends = pd.concat(groups)\n",
    "files = ['\\\\'.join(i) for i in ends.to_numpy()]"
   ]
  },
  {
   "cell_type": "code",
   "execution_count": 900,
   "metadata": {},
   "outputs": [
    {
     "data": {
      "text/plain": [
       "(2148, 1718, 430)"
      ]
     },
     "execution_count": 900,
     "metadata": {},
     "output_type": "execute_result"
    }
   ],
   "source": [
    "from sklearn.model_selection import train_test_split\n",
    "import numpy as np\n",
    "sample_files = np.random.choice(files, 1203, False)\n",
    "sample_files = files\n",
    "train_files, val_files = train_test_split(sample_files, test_size=0.2)\n",
    "len(sample_files), len(train_files), len(val_files)"
   ]
  },
  {
   "cell_type": "code",
   "execution_count": 941,
   "metadata": {},
   "outputs": [],
   "source": [
    "from math import ceil\n",
    "import numpy as np\n",
    "from PIL import Image\n",
    "class StudentTrainSequence(tf.keras.utils.Sequence):\n",
    "    def __init__(self, frame, batch_size) -> None:\n",
    "        self.frame = frame.copy()\n",
    "        self.batch_size = batch_size\n",
    "    def __len__(self):\n",
    "        return ceil(self.frame.shape[1]/self.batch_size)\n",
    "    def __getitem__(self, idx):\n",
    "        low = idx*self.batch_size\n",
    "        high = min(low + self.batch_size, self.frame.shape[1])\n",
    "        batch_files = self.frame.columns[low:high]\n",
    "        batch_y = self.frame.loc[:, batch_files]\n",
    "        # batch_y = batch_y > 0.5\n",
    "        # batch_y = batch_y.astype(int)\n",
    "        batch_y  = batch_y.to_numpy().T\n",
    "        rotates = np.random.random(len(batch_y)) > 0.5\n",
    "        batch_y = np.argmax(batch_y, 1)\n",
    "        batch_y = np.array([(y+3)%6 if r else y for y,r in zip(batch_y, rotates)])\n",
    "        batch_x = batch_files\n",
    "        batch_x = [Image.open(f).resize((320,200)) for f in batch_x]\n",
    "        batch_x = [ im.transpose(Image.ROTATE_180) if r else im for im,r in zip(batch_x,rotates)]\n",
    "        batch_x = [np.asarray(im, np.float32)/255 for im in batch_x]\n",
    "        batch_x = np.stack(batch_x)\n",
    "        # batch_x = [tf.io.read_file(f) for f in batch_x]\n",
    "        # batch_x = [tf.image.resize(tf.io.decode_png(f), (200,320)) for f in batch_x]\n",
    "        # batch_x = [tf.image.convert_image_dtype(img, tf.float32) for img in batch_x]\n",
    "        # batch_x = tf.stack(batch_x)\n",
    "        return batch_x, batch_y"
   ]
  },
  {
   "cell_type": "code",
   "execution_count": 942,
   "metadata": {},
   "outputs": [],
   "source": [
    "# train_dfs = {i: df.loc[:, train_files] for i in dfs.keys()}\n",
    "# val_dfs = {i: df.loc[:, val_files] for i in dfs.keys()}\n",
    "# train_seq = {i: StudentTrainSequence(train_dfs[i], 100) for i in train_dfs.keys()}\n",
    "# val_seq = {i: StudentTrainSequence(val_dfs[i], 100) for i in val_dfs.keys()}\n",
    "train_seq = StudentTrainSequence(df[train_files], 32)\n",
    "val_seq = StudentTrainSequence(df[val_files], 32)"
   ]
  },
  {
   "cell_type": "code",
   "execution_count": 943,
   "metadata": {},
   "outputs": [],
   "source": [
    "model = new_model()"
   ]
  },
  {
   "cell_type": "code",
   "execution_count": 944,
   "metadata": {},
   "outputs": [
    {
     "name": "stdout",
     "output_type": "stream",
     "text": [
      "Model: \"sequential_30\"\n",
      "_________________________________________________________________\n",
      " Layer (type)                Output Shape              Param #   \n",
      "=================================================================\n",
      " conv2d_60 (Conv2D)          (None, 196, 316, 32)      2432      \n",
      "                                                                 \n",
      " max_pooling2d_60 (MaxPooli  (None, 39, 63, 32)        0         \n",
      " ng2D)                                                           \n",
      "                                                                 \n",
      " conv2d_61 (Conv2D)          (None, 35, 59, 32)        25632     \n",
      "                                                                 \n",
      " max_pooling2d_61 (MaxPooli  (None, 7, 11, 32)         0         \n",
      " ng2D)                                                           \n",
      "                                                                 \n",
      " flatten_30 (Flatten)        (None, 2464)              0         \n",
      "                                                                 \n",
      " dense_120 (Dense)           (None, 1000)              2464000   \n",
      "                                                                 \n",
      " dense_121 (Dense)           (None, 1000)              1000000   \n",
      "                                                                 \n",
      " dense_122 (Dense)           (None, 100)               100000    \n",
      "                                                                 \n",
      " dense_123 (Dense)           (None, 6)                 600       \n",
      "                                                                 \n",
      "=================================================================\n",
      "Total params: 3592664 (13.70 MB)\n",
      "Trainable params: 3592664 (13.70 MB)\n",
      "Non-trainable params: 0 (0.00 Byte)\n",
      "_________________________________________________________________\n"
     ]
    }
   ],
   "source": [
    "model.summary()"
   ]
  },
  {
   "cell_type": "code",
   "execution_count": 945,
   "metadata": {},
   "outputs": [],
   "source": [
    "model.compile(\"adam\",\n",
    "              tf.keras.losses.SparseCategoricalCrossentropy(),\n",
    "              jit_compile=True)\n",
    "callback = tf.keras.callbacks.EarlyStopping(monitor='loss', patience=3)"
   ]
  },
  {
   "cell_type": "code",
   "execution_count": 946,
   "metadata": {},
   "outputs": [
    {
     "name": "stdout",
     "output_type": "stream",
     "text": [
      "Epoch 1/2\n",
      "54/54 [==============================] - 100s 2s/step - loss: 1.4379 - val_loss: 1.1210\n",
      "Epoch 2/2\n",
      "54/54 [==============================] - 112s 2s/step - loss: 0.9773 - val_loss: 1.0238\n"
     ]
    }
   ],
   "source": [
    "hist3 = model.fit(\n",
    "    train_seq,\n",
    "    validation_data=val_seq,\n",
    "    epochs=2,\n",
    "    callbacks=[callback],\n",
    "    initial_epoch=0\n",
    ")"
   ]
  },
  {
   "cell_type": "code",
   "execution_count": null,
   "metadata": {},
   "outputs": [],
   "source": [
    "from tqdm.notebook import tqdm\n",
    "y_sum = None\n",
    "for x,y in tqdm(StudentTrainSequence(df, 100)):\n",
    "    y_ = y\n",
    "    # ysum = np.sum(y_, 0)\n",
    "    # ysum = np.argmax(y_, 1)\n",
    "    # ysum = tf.one_hot(ysum, 6)\n",
    "    ysum = np.sum(ysum, 0)\n",
    "    print(f\"{y_sum} + {ysum}\")\n",
    "    y_sum = ysum if y_sum is None else y_sum + ysum"
   ]
  },
  {
   "cell_type": "code",
   "execution_count": null,
   "metadata": {},
   "outputs": [],
   "source": [
    "record = dict()"
   ]
  },
  {
   "cell_type": "code",
   "execution_count": null,
   "metadata": {},
   "outputs": [],
   "source": [
    "y_sum"
   ]
  },
  {
   "cell_type": "code",
   "execution_count": null,
   "metadata": {},
   "outputs": [],
   "source": [
    "record['Dropout Model'] = y_sum\n",
    "record"
   ]
  },
  {
   "cell_type": "code",
   "execution_count": 1123,
   "metadata": {},
   "outputs": [
    {
     "data": {
      "text/plain": [
       "<tf.Tensor: shape=(1, 6), dtype=float32, numpy=\n",
       "array([[1.3100648e-02, 2.8823983e-04, 8.2235467e-03, 9.7035640e-01,\n",
       "        1.3503333e-03, 6.6807410e-03]], dtype=float32)>"
      ]
     },
     "execution_count": 1123,
     "metadata": {},
     "output_type": "execute_result"
    }
   ],
   "source": [
    "model(np.random.random((1,200,320,3)))"
   ]
  },
  {
   "cell_type": "code",
   "execution_count": null,
   "metadata": {},
   "outputs": [
    {
     "data": {
      "text/plain": [
       "<tf.Tensor: shape=(1, 6), dtype=float32, numpy=\n",
       "array([[2.4511356e-02, 5.8173865e-02, 8.0289298e-01, 3.4369217e-04,\n",
       "        2.5123553e-04, 1.1382691e-01]], dtype=float32)>"
      ]
     },
     "metadata": {},
     "output_type": "display_data"
    }
   ],
   "source": [
    "model(np.random.random((1,200,320,3)))"
   ]
  },
  {
   "cell_type": "code",
   "execution_count": null,
   "metadata": {},
   "outputs": [],
   "source": [
    "model.summary()"
   ]
  },
  {
   "cell_type": "code",
   "execution_count": 682,
   "metadata": {},
   "outputs": [],
   "source": [
    "model.save('student11.keras')"
   ]
  },
  {
   "cell_type": "code",
   "execution_count": 601,
   "metadata": {},
   "outputs": [
    {
     "name": "stdout",
     "output_type": "stream",
     "text": [
      "Loading Tensorflow: Done    \n",
      "loading weights\n"
     ]
    },
    {
     "data": {
      "text/plain": [
       "<module 'models.model_student' from 'd:\\\\Projects\\\\Agar.io\\\\models\\\\model_student.py'>"
      ]
     },
     "execution_count": 601,
     "metadata": {},
     "output_type": "execute_result"
    }
   ],
   "source": [
    "import models.model_student as student\n",
    "import importlib\n",
    "importlib.reload(student)"
   ]
  },
  {
   "cell_type": "code",
   "execution_count": 625,
   "metadata": {},
   "outputs": [
    {
     "name": "stdout",
     "output_type": "stream",
     "text": [
      "tf.Tensor([[0.51605034 0.520384   0.52464443 0.5213149  0.5281905  0.5168024 ]], shape=(1, 6), dtype=float32)\n",
      "tf.Tensor([[0.505977   0.5156156  0.5133477  0.52109855 0.51454824 0.51768535]], shape=(1, 6), dtype=float32)\n"
     ]
    }
   ],
   "source": [
    "import numpy as np\n",
    "r = np.random.random((1,200,320,3))\n",
    "print(model(r))\n",
    "print(student.model(r))"
   ]
  },
  {
   "cell_type": "code",
   "execution_count": 450,
   "metadata": {},
   "outputs": [
    {
     "data": {
      "text/plain": [
       "1792.0"
      ]
     },
     "execution_count": 450,
     "metadata": {},
     "output_type": "execute_result"
    }
   ],
   "source": [
    "5376/3"
   ]
  }
 ],
 "metadata": {
  "kernelspec": {
   "display_name": "Python 3",
   "language": "python",
   "name": "python3"
  },
  "language_info": {
   "codemirror_mode": {
    "name": "ipython",
    "version": 3
   },
   "file_extension": ".py",
   "mimetype": "text/x-python",
   "name": "python",
   "nbconvert_exporter": "python",
   "pygments_lexer": "ipython3",
   "version": "3.11.5"
  }
 },
 "nbformat": 4,
 "nbformat_minor": 2
}
