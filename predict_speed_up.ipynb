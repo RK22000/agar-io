{
 "cells": [
  {
   "cell_type": "code",
   "execution_count": 2,
   "metadata": {},
   "outputs": [
    {
     "data": {
      "text/plain": [
       "[(1.0, 0.0),\n",
       " (0.7071067811865476, 0.7071067811865476),\n",
       " (6.123233995736766e-17, 1.0),\n",
       " (-0.7071067811865475, 0.7071067811865476),\n",
       " (-1.0, 1.2246467991473532e-16),\n",
       " (-0.7071067811865477, -0.7071067811865475),\n",
       " (-1.8369701987210297e-16, -1.0),\n",
       " (0.7071067811865474, -0.7071067811865477)]"
      ]
     },
     "execution_count": 2,
     "metadata": {},
     "output_type": "execute_result"
    }
   ],
   "source": [
    "import numpy as np"
   ]
  },
  {
   "cell_type": "code",
   "execution_count": 4,
   "metadata": {},
   "outputs": [
    {
     "data": {
      "text/plain": [
       "[(1.0, 0.0),\n",
       " (0.7071067811865476, 0.7071067811865476),\n",
       " (6.123233995736766e-17, 1.0),\n",
       " (-0.7071067811865475, 0.7071067811865476),\n",
       " (-1.0, 1.2246467991473532e-16),\n",
       " (-0.7071067811865477, -0.7071067811865475),\n",
       " (-1.8369701987210297e-16, -1.0),\n",
       " (0.7071067811865474, -0.7071067811865477)]"
      ]
     },
     "execution_count": 4,
     "metadata": {},
     "output_type": "execute_result"
    }
   ],
   "source": [
    "angles = [i*45 for i in range(8)]\n",
    "radians = [i*np.pi/180 for i in angles]\n",
    "vecs = [(np.cos(i), np.sin(i)) for i in radians]\n",
    "vecs"
   ]
  },
  {
   "cell_type": "code",
   "execution_count": null,
   "metadata": {},
   "outputs": [],
   "source": []
  }
 ],
 "metadata": {
  "kernelspec": {
   "display_name": "Python 3",
   "language": "python",
   "name": "python3"
  },
  "language_info": {
   "codemirror_mode": {
    "name": "ipython",
    "version": 3
   },
   "file_extension": ".py",
   "mimetype": "text/x-python",
   "name": "python",
   "nbconvert_exporter": "python",
   "pygments_lexer": "ipython3",
   "version": "3.11.5"
  }
 },
 "nbformat": 4,
 "nbformat_minor": 2
}
