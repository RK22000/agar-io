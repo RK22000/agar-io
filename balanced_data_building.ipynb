{
 "cells": [
  {
   "cell_type": "code",
   "execution_count": 1,
   "metadata": {},
   "outputs": [],
   "source": [
    "import tensorflow as tf\n",
    "all_files = tf.data.Dataset.list_files(\"runs2\\\\*\\\\.fullpic\\\\*.png\")\n",
    "all_files = list(all_files.as_numpy_iterator())"
   ]
  },
  {
   "cell_type": "code",
   "execution_count": 20,
   "metadata": {},
   "outputs": [
    {
     "data": {
      "text/plain": [
       "(b'runs2\\\\00495\\\\.fullpic\\\\0000000031+system.png',\n",
       " 'runs2\\\\00495\\\\.fullpic\\\\0000000031+system.png')"
      ]
     },
     "execution_count": 20,
     "metadata": {},
     "output_type": "execute_result"
    }
   ],
   "source": [
    "f = all_files[0]\n",
    "f, f.decode()"
   ]
  },
  {
   "cell_type": "code",
   "execution_count": 2,
   "metadata": {},
   "outputs": [
    {
     "data": {
      "text/plain": [
       "18145"
      ]
     },
     "execution_count": 2,
     "metadata": {},
     "output_type": "execute_result"
    }
   ],
   "source": [
    "len(all_files)"
   ]
  },
  {
   "cell_type": "code",
   "execution_count": 2,
   "metadata": {},
   "outputs": [
    {
     "data": {
      "text/plain": [
       "(10, 6, 2)"
      ]
     },
     "execution_count": 2,
     "metadata": {},
     "output_type": "execute_result"
    }
   ],
   "source": [
    "from PIL import Image\n",
    "import models.model_experiemnt_lab as teacher\n",
    "import importlib\n",
    "importlib.reload(teacher)\n",
    "imgs = [Image.open(f).resize((320,200)) for f in all_files[:10]]\n",
    "preds = teacher.many_preds(imgs)\n",
    "preds.shape"
   ]
  },
  {
   "cell_type": "code",
   "execution_count": 21,
   "metadata": {},
   "outputs": [],
   "source": [
    "from math import ceil\n",
    "class AllFilesSequence(tf.keras.utils.Sequence):\n",
    "    def __init__(self, batch_size) -> None:\n",
    "        self.batch_size = batch_size\n",
    "    def __len__(self):\n",
    "        return ceil(len(all_files)/self.batch_size)\n",
    "    def __getitem__(self, idx):\n",
    "        low = idx*self.batch_size\n",
    "        high = min(low + self.batch_size, len(all_files))\n",
    "        batch_files = all_files[low:high]\n",
    "        batch_files = [i.decode() for i in batch_files]\n",
    "        imgs = [Image.open(f).resize((320,200)) for f in batch_files]\n",
    "        preds = teacher.many_preds(imgs)\n",
    "        return batch_files, preds\n"
   ]
  },
  {
   "cell_type": "code",
   "execution_count": 29,
   "metadata": {},
   "outputs": [
    {
     "data": {
      "application/vnd.jupyter.widget-view+json": {
       "model_id": "ff87d35b166249c3a76876ec211274b8",
       "version_major": 2,
       "version_minor": 0
      },
      "text/plain": [
       "  0%|          | 0/182 [00:00<?, ?it/s]"
      ]
     },
     "metadata": {},
     "output_type": "display_data"
    }
   ],
   "source": [
    "import pandas as pd\n",
    "from tqdm.notebook import tqdm\n",
    "import threading\n",
    "stop_predicting = False\n",
    "def make_all_preds():\n",
    "    allFilesSequence=AllFilesSequence(100)\n",
    "    df = None\n",
    "    for files, preds in tqdm(allFilesSequence):\n",
    "    # for files, preds in tqdm([allFilesSequence[i] for i in range(3)]):\n",
    "        if stop_predicting: break\n",
    "        avoids = preds[:,:,0]\n",
    "        df_ = pd.DataFrame(avoids.T, columns=map(str, files))\n",
    "        df = df_ if df is None else pd.concat([df,df_], axis=1)\n",
    "        df.to_csv('teacher_preds.csv')\n",
    "teacher_thread = threading.Thread(target=make_all_preds)\n",
    "teacher_thread.start()"
   ]
  },
  {
   "cell_type": "code",
   "execution_count": 28,
   "metadata": {},
   "outputs": [
    {
     "data": {
      "application/vnd.jupyter.widget-view+json": {
       "model_id": "358f718588dc41b190e2f8f71b10221b",
       "version_major": 2,
       "version_minor": 0
      },
      "text/plain": [
       "  0%|          | 0/3 [00:00<?, ?it/s]"
      ]
     },
     "metadata": {},
     "output_type": "display_data"
    }
   ],
   "source": [
    "stop_predicting=True"
   ]
  },
  {
   "cell_type": "code",
   "execution_count": 114,
   "metadata": {},
   "outputs": [
    {
     "data": {
      "text/plain": [
       "(6, 18144)"
      ]
     },
     "execution_count": 114,
     "metadata": {},
     "output_type": "execute_result"
    }
   ],
   "source": [
    "dfr = pd.read_csv(\"teacher_preds.csv\")\n",
    "dfr = dfr.iloc[:, 1:]\n",
    "dfr.shape"
   ]
  },
  {
   "cell_type": "code",
   "execution_count": 69,
   "metadata": {},
   "outputs": [
    {
     "data": {
      "text/plain": [
       "(2, 12600)"
      ]
     },
     "execution_count": 69,
     "metadata": {},
     "output_type": "execute_result"
    }
   ],
   "source": [
    "import numpy as np\n",
    "dfr_np = dfr.to_numpy()\n",
    "dfr_stat = pd.DataFrame(\n",
    "    [np.argmax(dfr_np, 0), np.argmin(dfr_np, 0)],\n",
    "    columns=dfr.columns,\n",
    "    index=['argmax', 'argmin']\n",
    ")\n",
    "dfr_stat.shape"
   ]
  },
  {
   "cell_type": "code",
   "execution_count": 70,
   "metadata": {},
   "outputs": [
    {
     "data": {
      "text/html": [
       "<div>\n",
       "<style scoped>\n",
       "    .dataframe tbody tr th:only-of-type {\n",
       "        vertical-align: middle;\n",
       "    }\n",
       "\n",
       "    .dataframe tbody tr th {\n",
       "        vertical-align: top;\n",
       "    }\n",
       "\n",
       "    .dataframe thead th {\n",
       "        text-align: right;\n",
       "    }\n",
       "</style>\n",
       "<table border=\"1\" class=\"dataframe\">\n",
       "  <thead>\n",
       "    <tr style=\"text-align: right;\">\n",
       "      <th></th>\n",
       "      <th>argmax</th>\n",
       "      <th>argmin</th>\n",
       "    </tr>\n",
       "  </thead>\n",
       "  <tbody>\n",
       "    <tr>\n",
       "      <th>runs2\\00516\\.fullpic\\0000000073+system.png</th>\n",
       "      <td>0</td>\n",
       "      <td>1</td>\n",
       "    </tr>\n",
       "    <tr>\n",
       "      <th>runs2\\00394\\.fullpic\\0000000029+system.png</th>\n",
       "      <td>0</td>\n",
       "      <td>1</td>\n",
       "    </tr>\n",
       "    <tr>\n",
       "      <th>runs2\\00479\\.fullpic\\0000000003+system.png</th>\n",
       "      <td>0</td>\n",
       "      <td>1</td>\n",
       "    </tr>\n",
       "    <tr>\n",
       "      <th>runs2\\00270\\.fullpic\\0000000037+system.png</th>\n",
       "      <td>0</td>\n",
       "      <td>1</td>\n",
       "    </tr>\n",
       "    <tr>\n",
       "      <th>runs2\\00183\\.fullpic\\0000000038+system.png</th>\n",
       "      <td>0</td>\n",
       "      <td>1</td>\n",
       "    </tr>\n",
       "  </tbody>\n",
       "</table>\n",
       "</div>"
      ],
      "text/plain": [
       "                                            argmax  argmin\n",
       "runs2\\00516\\.fullpic\\0000000073+system.png       0       1\n",
       "runs2\\00394\\.fullpic\\0000000029+system.png       0       1\n",
       "runs2\\00479\\.fullpic\\0000000003+system.png       0       1\n",
       "runs2\\00270\\.fullpic\\0000000037+system.png       0       1\n",
       "runs2\\00183\\.fullpic\\0000000038+system.png       0       1"
      ]
     },
     "execution_count": 70,
     "metadata": {},
     "output_type": "execute_result"
    }
   ],
   "source": [
    "stat = dfr_stat.T.sort_values(['argmax', 'argmin'])\n",
    "stat.head()"
   ]
  },
  {
   "cell_type": "code",
   "execution_count": 75,
   "metadata": {},
   "outputs": [
    {
     "data": {
      "text/plain": [
       "(array([0, 1, 2, 3, 4, 5], dtype=int64),\n",
       " array([1, 2, 3, 4, 5, 0], dtype=int64))"
      ]
     },
     "execution_count": 75,
     "metadata": {},
     "output_type": "execute_result"
    }
   ],
   "source": [
    "argmax_vals = stat['argmax'].unique()\n",
    "argmin_vals = stat['argmin'].unique()\n",
    "argmax_vals,argmin_vals"
   ]
  },
  {
   "cell_type": "code",
   "execution_count": 78,
   "metadata": {},
   "outputs": [],
   "source": [
    "amag = stat.groupby('argmax')\n",
    "amig = stat.groupby('argmin')\n"
   ]
  },
  {
   "cell_type": "code",
   "execution_count": 79,
   "metadata": {},
   "outputs": [
    {
     "data": {
      "text/html": [
       "<div>\n",
       "<style scoped>\n",
       "    .dataframe tbody tr th:only-of-type {\n",
       "        vertical-align: middle;\n",
       "    }\n",
       "\n",
       "    .dataframe tbody tr th {\n",
       "        vertical-align: top;\n",
       "    }\n",
       "\n",
       "    .dataframe thead th {\n",
       "        text-align: right;\n",
       "    }\n",
       "</style>\n",
       "<table border=\"1\" class=\"dataframe\">\n",
       "  <thead>\n",
       "    <tr style=\"text-align: right;\">\n",
       "      <th></th>\n",
       "      <th>argmin</th>\n",
       "    </tr>\n",
       "    <tr>\n",
       "      <th>argmax</th>\n",
       "      <th></th>\n",
       "    </tr>\n",
       "  </thead>\n",
       "  <tbody>\n",
       "    <tr>\n",
       "      <th>0</th>\n",
       "      <td>2085</td>\n",
       "    </tr>\n",
       "    <tr>\n",
       "      <th>1</th>\n",
       "      <td>1862</td>\n",
       "    </tr>\n",
       "    <tr>\n",
       "      <th>2</th>\n",
       "      <td>2284</td>\n",
       "    </tr>\n",
       "    <tr>\n",
       "      <th>3</th>\n",
       "      <td>2005</td>\n",
       "    </tr>\n",
       "    <tr>\n",
       "      <th>4</th>\n",
       "      <td>1787</td>\n",
       "    </tr>\n",
       "    <tr>\n",
       "      <th>5</th>\n",
       "      <td>2577</td>\n",
       "    </tr>\n",
       "  </tbody>\n",
       "</table>\n",
       "</div>"
      ],
      "text/plain": [
       "        argmin\n",
       "argmax        \n",
       "0         2085\n",
       "1         1862\n",
       "2         2284\n",
       "3         2005\n",
       "4         1787\n",
       "5         2577"
      ]
     },
     "execution_count": 79,
     "metadata": {},
     "output_type": "execute_result"
    }
   ],
   "source": [
    "amag.count()"
   ]
  },
  {
   "cell_type": "code",
   "execution_count": 80,
   "metadata": {},
   "outputs": [
    {
     "data": {
      "text/html": [
       "<div>\n",
       "<style scoped>\n",
       "    .dataframe tbody tr th:only-of-type {\n",
       "        vertical-align: middle;\n",
       "    }\n",
       "\n",
       "    .dataframe tbody tr th {\n",
       "        vertical-align: top;\n",
       "    }\n",
       "\n",
       "    .dataframe thead th {\n",
       "        text-align: right;\n",
       "    }\n",
       "</style>\n",
       "<table border=\"1\" class=\"dataframe\">\n",
       "  <thead>\n",
       "    <tr style=\"text-align: right;\">\n",
       "      <th></th>\n",
       "      <th>argmax</th>\n",
       "    </tr>\n",
       "    <tr>\n",
       "      <th>argmin</th>\n",
       "      <th></th>\n",
       "    </tr>\n",
       "  </thead>\n",
       "  <tbody>\n",
       "    <tr>\n",
       "      <th>0</th>\n",
       "      <td>2074</td>\n",
       "    </tr>\n",
       "    <tr>\n",
       "      <th>1</th>\n",
       "      <td>2436</td>\n",
       "    </tr>\n",
       "    <tr>\n",
       "      <th>2</th>\n",
       "      <td>1964</td>\n",
       "    </tr>\n",
       "    <tr>\n",
       "      <th>3</th>\n",
       "      <td>2039</td>\n",
       "    </tr>\n",
       "    <tr>\n",
       "      <th>4</th>\n",
       "      <td>2677</td>\n",
       "    </tr>\n",
       "    <tr>\n",
       "      <th>5</th>\n",
       "      <td>1410</td>\n",
       "    </tr>\n",
       "  </tbody>\n",
       "</table>\n",
       "</div>"
      ],
      "text/plain": [
       "        argmax\n",
       "argmin        \n",
       "0         2074\n",
       "1         2436\n",
       "2         1964\n",
       "3         2039\n",
       "4         2677\n",
       "5         1410"
      ]
     },
     "execution_count": 80,
     "metadata": {},
     "output_type": "execute_result"
    }
   ],
   "source": [
    "amig.count()"
   ]
  },
  {
   "cell_type": "code",
   "execution_count": 77,
   "metadata": {},
   "outputs": [
    {
     "data": {
      "text/plain": [
       "200.5"
      ]
     },
     "execution_count": 77,
     "metadata": {},
     "output_type": "execute_result"
    }
   ],
   "source": [
    "1203/6"
   ]
  },
  {
   "cell_type": "code",
   "execution_count": 83,
   "metadata": {},
   "outputs": [],
   "source": [
    "take = [amag.get_group(i).sample(201) for i in argmax_vals]\n",
    "take = pd.concat(take, axis=0)"
   ]
  },
  {
   "cell_type": "code",
   "execution_count": 84,
   "metadata": {},
   "outputs": [
    {
     "data": {
      "text/html": [
       "<div>\n",
       "<style scoped>\n",
       "    .dataframe tbody tr th:only-of-type {\n",
       "        vertical-align: middle;\n",
       "    }\n",
       "\n",
       "    .dataframe tbody tr th {\n",
       "        vertical-align: top;\n",
       "    }\n",
       "\n",
       "    .dataframe thead th {\n",
       "        text-align: right;\n",
       "    }\n",
       "</style>\n",
       "<table border=\"1\" class=\"dataframe\">\n",
       "  <thead>\n",
       "    <tr style=\"text-align: right;\">\n",
       "      <th></th>\n",
       "      <th>argmax</th>\n",
       "    </tr>\n",
       "    <tr>\n",
       "      <th>argmin</th>\n",
       "      <th></th>\n",
       "    </tr>\n",
       "  </thead>\n",
       "  <tbody>\n",
       "    <tr>\n",
       "      <th>0</th>\n",
       "      <td>194</td>\n",
       "    </tr>\n",
       "    <tr>\n",
       "      <th>1</th>\n",
       "      <td>226</td>\n",
       "    </tr>\n",
       "    <tr>\n",
       "      <th>2</th>\n",
       "      <td>179</td>\n",
       "    </tr>\n",
       "    <tr>\n",
       "      <th>3</th>\n",
       "      <td>194</td>\n",
       "    </tr>\n",
       "    <tr>\n",
       "      <th>4</th>\n",
       "      <td>272</td>\n",
       "    </tr>\n",
       "    <tr>\n",
       "      <th>5</th>\n",
       "      <td>141</td>\n",
       "    </tr>\n",
       "  </tbody>\n",
       "</table>\n",
       "</div>"
      ],
      "text/plain": [
       "        argmax\n",
       "argmin        \n",
       "0          194\n",
       "1          226\n",
       "2          179\n",
       "3          194\n",
       "4          272\n",
       "5          141"
      ]
     },
     "execution_count": 84,
     "metadata": {},
     "output_type": "execute_result"
    }
   ],
   "source": [
    "take.groupby('argmin').count()"
   ]
  },
  {
   "cell_type": "code",
   "execution_count": 86,
   "metadata": {},
   "outputs": [],
   "source": [
    "take_files = take.index"
   ]
  },
  {
   "cell_type": "code",
   "execution_count": 87,
   "metadata": {},
   "outputs": [
    {
     "data": {
      "text/plain": [
       "Index(['runs2\\00276\\.fullpic\\0000000032+system.png',\n",
       "       'runs2\\00443\\.fullpic\\0000000007+system.png',\n",
       "       'runs2\\00490\\.fullpic\\0000000002+system.png',\n",
       "       'runs2\\00497\\.fullpic\\0000000023+system.png',\n",
       "       'runs2\\00370\\.fullpic\\0000000014+system.png',\n",
       "       'runs2\\00347\\.fullpic\\0000000012+system.png',\n",
       "       'runs2\\00026\\.fullpic\\0000000000+system.png',\n",
       "       'runs2\\00340\\.fullpic\\0000000055+system.png',\n",
       "       'runs2\\00274\\.fullpic\\0000000034+system.png',\n",
       "       'runs2\\00163\\.fullpic\\0000000132+system.png',\n",
       "       ...\n",
       "       'runs2\\00084\\.fullpic\\0000000035+system.png',\n",
       "       'runs2\\00170\\.fullpic\\0000000116+system.png',\n",
       "       'runs2\\00197\\.fullpic\\0000000021+system.png',\n",
       "       'runs2\\00257\\.fullpic\\0000000000+system.png',\n",
       "       'runs2\\00296\\.fullpic\\0000000005+system.png',\n",
       "       'runs2\\00012\\.fullpic\\0000000015+system.png',\n",
       "       'runs2\\00379\\.fullpic\\0000000010+system.png',\n",
       "       'runs2\\00349\\.fullpic\\0000000077+system.png',\n",
       "       'runs2\\00346\\.fullpic\\0000000019+system.png',\n",
       "       'runs2\\00395\\.fullpic\\0000000018+system.png'],\n",
       "      dtype='object', length=1206)"
      ]
     },
     "execution_count": 87,
     "metadata": {},
     "output_type": "execute_result"
    }
   ],
   "source": [
    "take_files"
   ]
  },
  {
   "cell_type": "code",
   "execution_count": null,
   "metadata": {},
   "outputs": [],
   "source": [
    "from math import ceil\n",
    "def pull_balanced_preds(dfr, count):\n",
    "    dfr_np = dfr.to_numpy()\n",
    "    dfr_stat = pd.DataFrame(\n",
    "        [np.argmax(dfr_np, 0), np.argmin(dfr_np, 0)],\n",
    "        columns=dfr.columns,\n",
    "        index=['argmax', 'argmin']\n",
    "    )\n",
    "    stat = dfr_stat.T \n",
    "    argmax_vals = stat['argmax'].unique()\n",
    "    count = ceil(count/len(argmax_vals))\n",
    "    amag = stat.groupby('argmax')\n",
    "    take = [amag.get_group(i).sample(count) for i in argmax_vals]\n",
    "    take = pd.concat(take, axis=0)\n",
    "    return take\n"
   ]
  },
  {
   "cell_type": "code",
   "execution_count": null,
   "metadata": {},
   "outputs": [],
   "source": []
  },
  {
   "cell_type": "code",
   "execution_count": 116,
   "metadata": {},
   "outputs": [
    {
     "data": {
      "text/html": [
       "<div>\n",
       "<style scoped>\n",
       "    .dataframe tbody tr th:only-of-type {\n",
       "        vertical-align: middle;\n",
       "    }\n",
       "\n",
       "    .dataframe tbody tr th {\n",
       "        vertical-align: top;\n",
       "    }\n",
       "\n",
       "    .dataframe thead th {\n",
       "        text-align: right;\n",
       "    }\n",
       "</style>\n",
       "<table border=\"1\" class=\"dataframe\">\n",
       "  <thead>\n",
       "    <tr style=\"text-align: right;\">\n",
       "      <th></th>\n",
       "      <th>0</th>\n",
       "      <th>1</th>\n",
       "      <th>2</th>\n",
       "      <th>3</th>\n",
       "    </tr>\n",
       "  </thead>\n",
       "  <tbody>\n",
       "    <tr>\n",
       "      <th>1</th>\n",
       "      <td>runs2</td>\n",
       "      <td>00000</td>\n",
       "      <td>.fullpic</td>\n",
       "      <td>0000000001+system.png</td>\n",
       "    </tr>\n",
       "    <tr>\n",
       "      <th>2</th>\n",
       "      <td>runs2</td>\n",
       "      <td>00000</td>\n",
       "      <td>.fullpic</td>\n",
       "      <td>0000000002+system.png</td>\n",
       "    </tr>\n",
       "    <tr>\n",
       "      <th>3</th>\n",
       "      <td>runs2</td>\n",
       "      <td>00000</td>\n",
       "      <td>.fullpic</td>\n",
       "      <td>0000000003+system.png</td>\n",
       "    </tr>\n",
       "    <tr>\n",
       "      <th>4</th>\n",
       "      <td>runs2</td>\n",
       "      <td>00000</td>\n",
       "      <td>.fullpic</td>\n",
       "      <td>0000000004+system.png</td>\n",
       "    </tr>\n",
       "    <tr>\n",
       "      <th>37</th>\n",
       "      <td>runs2</td>\n",
       "      <td>00001</td>\n",
       "      <td>.fullpic</td>\n",
       "      <td>0000000032+system.png</td>\n",
       "    </tr>\n",
       "    <tr>\n",
       "      <th>...</th>\n",
       "      <td>...</td>\n",
       "      <td>...</td>\n",
       "      <td>...</td>\n",
       "      <td>...</td>\n",
       "    </tr>\n",
       "    <tr>\n",
       "      <th>18112</th>\n",
       "      <td>runs2</td>\n",
       "      <td>00555</td>\n",
       "      <td>.fullpic</td>\n",
       "      <td>0000000013+system.png</td>\n",
       "    </tr>\n",
       "    <tr>\n",
       "      <th>18140</th>\n",
       "      <td>runs2</td>\n",
       "      <td>00556</td>\n",
       "      <td>.fullpic</td>\n",
       "      <td>0000000027+system.png</td>\n",
       "    </tr>\n",
       "    <tr>\n",
       "      <th>18141</th>\n",
       "      <td>runs2</td>\n",
       "      <td>00556</td>\n",
       "      <td>.fullpic</td>\n",
       "      <td>0000000028+system.png</td>\n",
       "    </tr>\n",
       "    <tr>\n",
       "      <th>18142</th>\n",
       "      <td>runs2</td>\n",
       "      <td>00556</td>\n",
       "      <td>.fullpic</td>\n",
       "      <td>0000000029+system.png</td>\n",
       "    </tr>\n",
       "    <tr>\n",
       "      <th>18143</th>\n",
       "      <td>runs2</td>\n",
       "      <td>00556</td>\n",
       "      <td>.fullpic</td>\n",
       "      <td>0000000030+system.png</td>\n",
       "    </tr>\n",
       "  </tbody>\n",
       "</table>\n",
       "<p>2148 rows × 4 columns</p>\n",
       "</div>"
      ],
      "text/plain": [
       "           0      1         2                      3\n",
       "1      runs2  00000  .fullpic  0000000001+system.png\n",
       "2      runs2  00000  .fullpic  0000000002+system.png\n",
       "3      runs2  00000  .fullpic  0000000003+system.png\n",
       "4      runs2  00000  .fullpic  0000000004+system.png\n",
       "37     runs2  00001  .fullpic  0000000032+system.png\n",
       "...      ...    ...       ...                    ...\n",
       "18112  runs2  00555  .fullpic  0000000013+system.png\n",
       "18140  runs2  00556  .fullpic  0000000027+system.png\n",
       "18141  runs2  00556  .fullpic  0000000028+system.png\n",
       "18142  runs2  00556  .fullpic  0000000029+system.png\n",
       "18143  runs2  00556  .fullpic  0000000030+system.png\n",
       "\n",
       "[2148 rows x 4 columns]"
      ]
     },
     "execution_count": 116,
     "metadata": {},
     "output_type": "execute_result"
    }
   ],
   "source": [
    "files = pd.DataFrame([i.split(\"\\\\\") for i in dfr.columns.sort_values()])\n",
    "grouped = files.groupby(1)\n",
    "groups = [grouped.get_group(i).sort_values(3).iloc[-4:] for i in files[1].unique()]\n",
    "ends = pd.concat(groups)\n",
    "# ['\\\\'.join(i) for i in ends.to_numpy()]\n",
    "ends"
   ]
  }
 ],
 "metadata": {
  "kernelspec": {
   "display_name": "Python 3",
   "language": "python",
   "name": "python3"
  },
  "language_info": {
   "codemirror_mode": {
    "name": "ipython",
    "version": 3
   },
   "file_extension": ".py",
   "mimetype": "text/x-python",
   "name": "python",
   "nbconvert_exporter": "python",
   "pygments_lexer": "ipython3",
   "version": "3.11.5"
  }
 },
 "nbformat": 4,
 "nbformat_minor": 2
}
